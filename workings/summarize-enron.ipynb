{
 "cells": [
  {
   "cell_type": "code",
   "execution_count": 1,
   "metadata": {},
   "outputs": [],
   "source": [
    "import sys\n",
    "import pandas as pd\n",
    "import datetime\n",
    "import time\n",
    "import matplotlib.pyplot as plt\n",
    "\n",
    "#Set number of prolific senders to assess in 2nd and 3rd outputs \n",
    "num_prolific_senders = 10\n",
    "\n",
    "#get input from param\n",
    "#input_filename = sys.argv[1]\n",
    "input_filename = \"enron-event-history-all.csv\" #hardcode for jupyter notebook\n",
    "\n"
   ]
  },
  {
   "cell_type": "code",
   "execution_count": 2,
   "metadata": {},
   "outputs": [],
   "source": [
    "def sender_recipient_date_df(target_df, with_date_df):\n",
    "    working_df=target_df.copy()  # get a working copy\n",
    "    working_df['DateTime'] = with_date_df['DateTime'] #Add DateTime to Dataframe\n",
    "    working_df = pd.melt(working_df, id_vars = ['DateTime', 'Sent'], value_name = 'Received') #unpivot recepients into 1 Received column\n",
    "    working_df.reset_index(inplace=True) \n",
    "    working_df.index = working_df.set_index(['DateTime']).index.to_period('M').to_timestamp('M') #convert index to month-end dates\n",
    "    working_df.drop(['DateTime', 'variable'], axis=1, inplace=True) \n",
    "    #working_df.head(10)  \n",
    "   \n",
    "    return working_df"
   ]
  },
  {
   "cell_type": "code",
   "execution_count": 3,
   "metadata": {},
   "outputs": [],
   "source": [
    "\n",
    "def plot_output_by_time(target_df, legend_lst, y_label, title, output_fname):\n",
    "    plt.figure(figsize=(20,10), dpi=100)\n",
    "    plt.xlabel('Time by Month')\n",
    "    plt.ylabel(y_label)\n",
    "    plt.xticks(rotation=45)\n",
    "    plt.title(title)\n",
    "    plt.plot(target_df)\n",
    "    plt.legend(legend_lst)\n",
    "\n",
    "    plt.savefig(output_fname, format='png')\n",
    "    #plt.show()\n"
   ]
  },
  {
   "cell_type": "code",
   "execution_count": 4,
   "metadata": {},
   "outputs": [],
   "source": [
    "#### Data loading - START ###\n",
    "\n",
    "try:\n",
    "    event_hist_df = pd.read_csv(input_filename, header=None, usecols = [0,1,2,3], \n",
    "                            names=['DateTime', 'Msg_ID', 'Sent', 'Received']) \n",
    "except NameError:\n",
    "    print(\"Filename Not Found.\")\n",
    "except Exception as err:      \n",
    "    print(\"Error encountered when reading file.\")\n",
    "    print(\"Error class is:  \", type(err))\n",
    "    print(\"Error message is:\", err)    \n",
    "#event_hist_df.head()\n",
    "\n",
    "#### Data loading - END ###"
   ]
  },
  {
   "cell_type": "code",
   "execution_count": 5,
   "metadata": {},
   "outputs": [],
   "source": [
    "#### Data Preparation/Cleaning - START ###\n",
    "\n",
    "working_df = event_hist_df.copy() # get a working copy\n",
    "\n",
    "#convert Sent and Received columns to lowercase\n",
    "working_df['Sent'] = working_df['Sent'].str.lower()  \n",
    "working_df['Received'] = working_df['Received'].str.lower()"
   ]
  },
  {
   "cell_type": "code",
   "execution_count": 6,
   "metadata": {},
   "outputs": [],
   "source": [
    "#print(\"File rowcount:\", working_df['Msg_ID'].count())\n",
    "#print(\"Duplicate Msg_ID rowcount:\", working_df['Msg_ID'].duplicated().sum()) \n",
    "\n",
    "working_df = working_df.drop_duplicates(subset=['Msg_ID'], keep='first') #2086 records with duplicate Msg_IDs to remove (assumption to be duplicate messages)\n",
    "working_df.drop(['Msg_ID'], axis=1, inplace=True) \n",
    "#print(\"New working df rowcount:\", working_df['Msg_ID'].count()) \n"
   ]
  },
  {
   "cell_type": "code",
   "execution_count": 7,
   "metadata": {},
   "outputs": [],
   "source": [
    "na_columns=working_df.columns[working_df.isna().any()] #get columns with na\n",
    "working_df = working_df.dropna(subset=na_columns) #remove rows with missing Sent or Received columns values (assumption to be invalid messages)\n",
    "#print(\"New working df rowcount:\", working_df['Msg_ID'].count())\n",
    "#working_df['DateTime'].dtype\n"
   ]
  },
  {
   "cell_type": "code",
   "execution_count": 8,
   "metadata": {},
   "outputs": [],
   "source": [
    "working_df['DateTime'] = pd.to_datetime(pd.Series(working_df['DateTime']), unit='ms') #convert unix time to datetime\n",
    "#working_df['DateTime'].describe()\n",
    "#working_df.head(10)\n",
    "Cleaned_df = working_df[~working_df.Sent.isin(['notes','announcements'])] #remove \"notes\" and \"announcements\" from sender as assumption they are not person name\n",
    "#Cleaned_df.head()\n",
    "#### Data Preparation/Cleaning - END ###"
   ]
  },
  {
   "cell_type": "markdown",
   "metadata": {},
   "source": [
    "### Output 1 - START"
   ]
  },
  {
   "cell_type": "code",
   "execution_count": 9,
   "metadata": {},
   "outputs": [],
   "source": [
    "#### Output 1 - START ###\n",
    "\n",
    "#Create Sent counts df\n",
    "Sent_df = pd.DataFrame()\n",
    "Sent_df['sent'] = Cleaned_df['Sent'].groupby(Cleaned_df['Sent']).count()\n",
    "Sent_df.reset_index(inplace = True)\n",
    "Sent_df.columns=['person', 'sent']\n",
    "Sent_df.sort_values(by = 'sent', ascending = False, inplace=True) #sort by sent count descending\n",
    "#Sent_df.head(10)"
   ]
  },
  {
   "cell_type": "code",
   "execution_count": 10,
   "metadata": {},
   "outputs": [],
   "source": [
    "#Create Received counts df\n",
    "Split_Received_df = Cleaned_df['Received'].str.split(\"|\",expand = True) #Split recipients by '|' and expand to additional columns \n",
    "Split_Received_df = pd.concat([ Cleaned_df[['Sent']], Split_Received_df], axis = 1)\n",
    "\n",
    "#Split_Received_df.head(10)"
   ]
  },
  {
   "cell_type": "code",
   "execution_count": 11,
   "metadata": {},
   "outputs": [],
   "source": [
    "#Create Received counts df\n",
    "Received_df = pd.melt(Split_Received_df, value_name = 'Received') #unpivot for counting in received column\n",
    "Received_df = Received_df['Received'].value_counts()\n",
    "Received_df = pd.DataFrame(Received_df)\n",
    "Received_df.reset_index(level=0, inplace=True)\n",
    "Received_df.columns = ['person', 'received']\n",
    "#Received_df.head(10)"
   ]
  },
  {
   "cell_type": "code",
   "execution_count": 12,
   "metadata": {},
   "outputs": [],
   "source": [
    "#Merge Send and Receive to 1 df\n",
    "\n",
    "# Merge received df to sent df (so its still sorted desc by sent) and fill missing(na) with 0\n",
    "output_1_df = pd.merge(Sent_df, Received_df, on = 'person', how = 'outer').fillna(0)\n",
    "#output_1_df.head(10)\n"
   ]
  },
  {
   "cell_type": "code",
   "execution_count": 13,
   "metadata": {},
   "outputs": [],
   "source": [
    "#Save output 1 to csv file\n",
    "output_1_df.to_csv('Output_1.csv', index = False)\n",
    "\n",
    "#### Output 1 - END ###"
   ]
  },
  {
   "cell_type": "markdown",
   "metadata": {},
   "source": [
    "### Output 2 - START"
   ]
  },
  {
   "cell_type": "code",
   "execution_count": 14,
   "metadata": {},
   "outputs": [],
   "source": [
    "#### Output 2 - START ###"
   ]
  },
  {
   "cell_type": "code",
   "execution_count": 15,
   "metadata": {},
   "outputs": [],
   "source": [
    "Prolific_Senders_df = pd.DataFrame()\n",
    "Prolific_Senders_df['Sent'] = output_1_df['person'].head(num_prolific_senders) #Get most prolific senders\n",
    "#Prolific_Senders_df.head(10)\n"
   ]
  },
  {
   "cell_type": "code",
   "execution_count": 16,
   "metadata": {},
   "outputs": [],
   "source": [
    "working_2_df = sender_recipient_date_df(Split_Received_df, Cleaned_df)\n",
    "    \n",
    "#Check the Sender column and filter off non-prolific senders \n",
    "working_2_df = working_2_df.loc[working_2_df['Sent'].isin(Prolific_Senders_df['Sent'])]\n",
    "\n",
    "#Resample to plot by month\n",
    "working_2_df = working_2_df.groupby(working_2_df['Sent'], as_index=True).resample('M').count() \n",
    "working_2_df.drop(['Sent', 'index'], axis=1, inplace=True) \n",
    "\n",
    "working_2_df.reset_index(inplace=True) \n",
    "working_2_df.columns=['Sender','Date', 'Count']\n",
    "\n",
    "output_2_df = working_2_df.pivot(index=\"Date\", columns=\"Sender\", values = \"Count\").fillna(0).astype(int) #Pivot for plotting by senders and time\n",
    "#output_2_df.head()\n"
   ]
  },
  {
   "cell_type": "code",
   "execution_count": 17,
   "metadata": {},
   "outputs": [],
   "source": [
    " \n",
    "plot_output_by_time(output_2_df, Prolific_Senders_df['Sent'], 'No. of emails sent', 'No. of emails sent by most prolific senders', 'Output_2.png')\n",
    "\n",
    "#### Output 2 - END ###"
   ]
  },
  {
   "cell_type": "markdown",
   "metadata": {},
   "source": [
    "### Output 3 - START"
   ]
  },
  {
   "cell_type": "code",
   "execution_count": 18,
   "metadata": {},
   "outputs": [],
   "source": [
    "#### Output 3 - START ###\n",
    "\n",
    "working_3_df = sender_recipient_date_df(Split_Received_df, Cleaned_df)\n",
    "#working_3_df.head(10)"
   ]
  },
  {
   "cell_type": "code",
   "execution_count": 19,
   "metadata": {},
   "outputs": [],
   "source": [
    "#Check the receipent column and filter off non-prolific senders \n",
    "working_3_df = working_3_df.loc[working_3_df['Received'].isin(Prolific_Senders_df['Sent'])]\n",
    "\n",
    "#before=Received_df.count()\n",
    "working_3_df=working_3_df.drop_duplicates()    #Drop Duplicates to get unique contact(s) per month   \n",
    "#print(\"before:\\n\", before, \"\\nafter:\\n\", Received_df.count())\n",
    "\n",
    "working_3_df = working_3_df['Sent'].groupby([working_3_df.index, working_3_df['Received']]).count() # Group by Date and Received\n",
    "working_3_df = pd.DataFrame(working_3_df)\n",
    "working_3_df.reset_index(inplace = True) # make indices into columns\n",
    "working_3_df.columns=['Date','Recipient', 'Count']\n",
    "\n",
    "#working_3_df.head(10)\n"
   ]
  },
  {
   "cell_type": "code",
   "execution_count": 20,
   "metadata": {},
   "outputs": [],
   "source": [
    "output_3_df = working_3_df.pivot(index=\"Date\", columns=\"Recipient\", values = \"Count\").fillna(0).astype(int) #Pivot for plotting by senders and time\n",
    "#output_3_df.head()"
   ]
  },
  {
   "cell_type": "code",
   "execution_count": 21,
   "metadata": {},
   "outputs": [],
   "source": [
    "plot_output_by_time(output_3_df, Prolific_Senders_df['Sent'], 'No. of unique contact(s)', 'No. of unique person(s) who contacted the prolific senders', 'Output_3.png')\n",
    "\n",
    "\n",
    "#### Output 3 - END ###"
   ]
  },
  {
   "cell_type": "code",
   "execution_count": null,
   "metadata": {},
   "outputs": [],
   "source": []
  },
  {
   "cell_type": "code",
   "execution_count": null,
   "metadata": {},
   "outputs": [],
   "source": []
  }
 ],
 "metadata": {
  "kernelspec": {
   "display_name": "Python 3",
   "language": "python",
   "name": "python3"
  },
  "language_info": {
   "codemirror_mode": {
    "name": "ipython",
    "version": 3
   },
   "file_extension": ".py",
   "mimetype": "text/x-python",
   "name": "python",
   "nbconvert_exporter": "python",
   "pygments_lexer": "ipython3",
   "version": "3.6.6"
  }
 },
 "nbformat": 4,
 "nbformat_minor": 2
}
